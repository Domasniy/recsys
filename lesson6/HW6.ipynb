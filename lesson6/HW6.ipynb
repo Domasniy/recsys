{
  "nbformat": 4,
  "nbformat_minor": 0,
  "metadata": {
    "accelerator": "GPU",
    "colab": {
      "name": "HW6.ipynb",
      "provenance": [],
      "collapsed_sections": []
    },
    "kernelspec": {
      "display_name": "Python 3",
      "name": "python3"
    },
    "language_info": {
      "name": "python"
    }
  },
  "cells": [
    {
      "cell_type": "code",
      "metadata": {
        "id": "UIBrAxP3h5AK"
      },
      "source": [
        "import pandas as pd\n",
        "import numpy as np\n",
        "import xgboost as xgb\n",
        "from sklearn.pipeline import Pipeline, make_pipeline\n",
        "from sklearn.base import BaseEstimator, TransformerMixin\n",
        "from sklearn.linear_model import LogisticRegression\n",
        "from sklearn.model_selection import train_test_split, GridSearchCV, StratifiedKFold, KFold\n",
        "from sklearn.metrics import f1_score, roc_auc_score, precision_score, classification_report, precision_recall_curve, confusion_matrix\n",
        "import itertools\n",
        "from sklearn.compose import ColumnTransformer\n",
        "from sklearn.preprocessing import StandardScaler, OneHotEncoder\n",
        "\n",
        "import matplotlib.pyplot as plt\n",
        "\n",
        "%matplotlib inline"
      ],
      "execution_count": 36,
      "outputs": []
    },
    {
      "cell_type": "code",
      "metadata": {
        "id": "8i8JZ9gNlrZS"
      },
      "source": [
        "def plot_confusion_matrix(cm, classes,\n",
        "                          normalize=False,\n",
        "                          title='Confusion matrix',\n",
        "                          cmap=plt.cm.Blues):\n",
        "    \"\"\"\n",
        "    This function prints and plots the confusion matrix.\n",
        "    Normalization can be applied by setting `normalize=True`.\n",
        "    \"\"\"\n",
        "    plt.imshow(cm, interpolation='nearest', cmap=cmap)\n",
        "    plt.title(title)\n",
        "    plt.colorbar()\n",
        "    tick_marks = np.arange(len(classes))\n",
        "    plt.xticks(tick_marks, classes, rotation=45)\n",
        "    plt.yticks(tick_marks, classes)\n",
        "\n",
        "    if normalize:\n",
        "        cm = cm.astype('float') / cm.sum(axis=1)[:, np.newaxis]\n",
        "        print(\"Normalized confusion matrix\")\n",
        "    else:\n",
        "        print('Confusion matrix, without normalization')\n",
        "\n",
        "    print(cm)\n",
        "\n",
        "    thresh = cm.max() / 2.\n",
        "    for i, j in itertools.product(range(cm.shape[0]), range(cm.shape[1])):\n",
        "        plt.text(j, i, cm[i, j],\n",
        "                 horizontalalignment=\"center\",\n",
        "                 color=\"white\" if cm[i, j] > thresh else \"black\")\n",
        "\n",
        "    plt.tight_layout()\n",
        "    plt.ylabel('True label')\n",
        "    plt.xlabel('Predicted label')"
      ],
      "execution_count": 37,
      "outputs": []
    },
    {
      "cell_type": "code",
      "metadata": {
        "id": "IRH6ajAz5s88"
      },
      "source": [
        "SEED = 0\n",
        "models_results = {\n",
        "    'Model': [],\n",
        "    'F-score': [],\n",
        "    'Precision': [],\n",
        "    'Recall': [],\n",
        "    'ROC-AUC': [],\n",
        "    'Confusion Matrix': []\n",
        "}"
      ],
      "execution_count": 38,
      "outputs": []
    },
    {
      "cell_type": "markdown",
      "metadata": {
        "id": "J3RbPcOmkFXQ"
      },
      "source": [
        "Взять любой набор данных для бинарной классификации,\n",
        "выбрал https://www.kaggle.com/merishnasuwal/breast-cancer-prediction-dataset \n",
        "\n",
        "\n",
        "Описание признаков:\n",
        "\n",
        "- diagnosis: The diagnosis of breast tissues (1 = malignant, 0 = benign) where - malignant denotes that the disease is harmful\n",
        "- mean_radius: mean of distances from center to points on the perimeter\n",
        "- mean_texture: standard deviation of gray-scale values\n",
        "- mean_perimeter: mean size of the core tumor\n",
        "- mean_area: mean area of the core tumor\n",
        "- mean_smoothness: mean of local variation in radius lengths"
      ]
    },
    {
      "cell_type": "code",
      "metadata": {
        "colab": {
          "base_uri": "https://localhost:8080/",
          "height": 206
        },
        "id": "bQN731eekE7I",
        "outputId": "4c8449c6-2272-4529-dd1d-7e7a1dca5ea6"
      },
      "source": [
        "df = pd.read_csv('Breast_cancer_data.csv')\n",
        "df.head()"
      ],
      "execution_count": 39,
      "outputs": [
        {
          "output_type": "execute_result",
          "data": {
            "text/html": [
              "<div>\n",
              "<style scoped>\n",
              "    .dataframe tbody tr th:only-of-type {\n",
              "        vertical-align: middle;\n",
              "    }\n",
              "\n",
              "    .dataframe tbody tr th {\n",
              "        vertical-align: top;\n",
              "    }\n",
              "\n",
              "    .dataframe thead th {\n",
              "        text-align: right;\n",
              "    }\n",
              "</style>\n",
              "<table border=\"1\" class=\"dataframe\">\n",
              "  <thead>\n",
              "    <tr style=\"text-align: right;\">\n",
              "      <th></th>\n",
              "      <th>mean_radius</th>\n",
              "      <th>mean_texture</th>\n",
              "      <th>mean_perimeter</th>\n",
              "      <th>mean_area</th>\n",
              "      <th>mean_smoothness</th>\n",
              "      <th>diagnosis</th>\n",
              "    </tr>\n",
              "  </thead>\n",
              "  <tbody>\n",
              "    <tr>\n",
              "      <th>0</th>\n",
              "      <td>17.99</td>\n",
              "      <td>10.38</td>\n",
              "      <td>122.80</td>\n",
              "      <td>1001.0</td>\n",
              "      <td>0.11840</td>\n",
              "      <td>0</td>\n",
              "    </tr>\n",
              "    <tr>\n",
              "      <th>1</th>\n",
              "      <td>20.57</td>\n",
              "      <td>17.77</td>\n",
              "      <td>132.90</td>\n",
              "      <td>1326.0</td>\n",
              "      <td>0.08474</td>\n",
              "      <td>0</td>\n",
              "    </tr>\n",
              "    <tr>\n",
              "      <th>2</th>\n",
              "      <td>19.69</td>\n",
              "      <td>21.25</td>\n",
              "      <td>130.00</td>\n",
              "      <td>1203.0</td>\n",
              "      <td>0.10960</td>\n",
              "      <td>0</td>\n",
              "    </tr>\n",
              "    <tr>\n",
              "      <th>3</th>\n",
              "      <td>11.42</td>\n",
              "      <td>20.38</td>\n",
              "      <td>77.58</td>\n",
              "      <td>386.1</td>\n",
              "      <td>0.14250</td>\n",
              "      <td>0</td>\n",
              "    </tr>\n",
              "    <tr>\n",
              "      <th>4</th>\n",
              "      <td>20.29</td>\n",
              "      <td>14.34</td>\n",
              "      <td>135.10</td>\n",
              "      <td>1297.0</td>\n",
              "      <td>0.10030</td>\n",
              "      <td>0</td>\n",
              "    </tr>\n",
              "  </tbody>\n",
              "</table>\n",
              "</div>"
            ],
            "text/plain": [
              "   mean_radius  mean_texture  ...  mean_smoothness  diagnosis\n",
              "0        17.99         10.38  ...          0.11840          0\n",
              "1        20.57         17.77  ...          0.08474          0\n",
              "2        19.69         21.25  ...          0.10960          0\n",
              "3        11.42         20.38  ...          0.14250          0\n",
              "4        20.29         14.34  ...          0.10030          0\n",
              "\n",
              "[5 rows x 6 columns]"
            ]
          },
          "metadata": {
            "tags": []
          },
          "execution_count": 39
        }
      ]
    },
    {
      "cell_type": "markdown",
      "metadata": {
        "id": "CP47mFL3kwuU"
      },
      "source": [
        "обучить любой классификатор (какой вам нравится) и посчитать метрики качества (roc auc, pr/rec/f1, logloss)"
      ]
    },
    {
      "cell_type": "code",
      "metadata": {
        "id": "P_dsIbryiZCg"
      },
      "source": [
        "features = df.columns[:-1]\n",
        "target = 'diagnosis'"
      ],
      "execution_count": 40,
      "outputs": []
    },
    {
      "cell_type": "code",
      "metadata": {
        "id": "Ur0toWZok9oI"
      },
      "source": [
        "X_train, X_test, y_train, y_test = train_test_split(df[features], df[target], random_state=24, test_size=0.2)"
      ],
      "execution_count": 41,
      "outputs": []
    },
    {
      "cell_type": "code",
      "metadata": {
        "id": "9c6hh2mwlU58"
      },
      "source": [
        "clf = xgb.XGBClassifier(random_state=24)"
      ],
      "execution_count": 42,
      "outputs": []
    },
    {
      "cell_type": "code",
      "metadata": {
        "colab": {
          "base_uri": "https://localhost:8080/"
        },
        "id": "wuPhDV_mmFMk",
        "outputId": "c179431d-1302-4f8d-cab4-ea9ffc92c56b"
      },
      "source": [
        "clf.fit(X_train, y_train)"
      ],
      "execution_count": 43,
      "outputs": [
        {
          "output_type": "execute_result",
          "data": {
            "text/plain": [
              "XGBClassifier(base_score=0.5, booster='gbtree', colsample_bylevel=1,\n",
              "              colsample_bynode=1, colsample_bytree=1, gamma=0,\n",
              "              learning_rate=0.1, max_delta_step=0, max_depth=3,\n",
              "              min_child_weight=1, missing=None, n_estimators=100, n_jobs=1,\n",
              "              nthread=None, objective='binary:logistic', random_state=24,\n",
              "              reg_alpha=0, reg_lambda=1, scale_pos_weight=1, seed=None,\n",
              "              silent=None, subsample=1, verbosity=1)"
            ]
          },
          "metadata": {
            "tags": []
          },
          "execution_count": 43
        }
      ]
    },
    {
      "cell_type": "code",
      "metadata": {
        "id": "bCrB19AQmIrN"
      },
      "source": [
        "preds = clf.predict_proba(X_test)[:, 1]"
      ],
      "execution_count": 44,
      "outputs": []
    },
    {
      "cell_type": "code",
      "metadata": {
        "colab": {
          "base_uri": "https://localhost:8080/"
        },
        "id": "2NExXCf0mS7k",
        "outputId": "908a876d-c10b-4330-f0cf-88899c5f819f"
      },
      "source": [
        "precision, recall, thresholds = precision_recall_curve(y_test, preds)\n",
        "\n",
        "fscore = (2 * precision * recall) / (precision + recall)\n",
        "# locate the index of the largest f score\n",
        "ix = np.argmax(fscore)\n",
        "print('Best Threshold=%f, F-Score=%.3f, Precision=%.3f, Recall=%.3f' % (thresholds[ix], \n",
        "                                                                        fscore[ix],\n",
        "                                                                        precision[ix],\n",
        "                                                                        recall[ix]))\n",
        "print(f'Roc-Auc: {round(roc_auc_score(y_test, preds), 3)}')"
      ],
      "execution_count": 45,
      "outputs": [
        {
          "output_type": "stream",
          "text": [
            "Best Threshold=0.195674, F-Score=0.935, Precision=0.889, Recall=0.986\n",
            "Roc-Auc: 0.968\n"
          ],
          "name": "stdout"
        }
      ]
    },
    {
      "cell_type": "code",
      "metadata": {
        "colab": {
          "base_uri": "https://localhost:8080/",
          "height": 648
        },
        "id": "G2514ST6mUSv",
        "outputId": "baac275e-a2cc-4578-b589-ab3ff2eb919a"
      },
      "source": [
        "font = {'size' : 15}\n",
        "\n",
        "plt.rc('font', **font)\n",
        "\n",
        "cnf_matrix = confusion_matrix(y_test, preds>thresholds[ix])\n",
        "plt.figure(figsize=(10, 8))\n",
        "plot_confusion_matrix(cnf_matrix, classes=['NonChurn', 'Churn'],\n",
        "                      title='Confusion matrix')\n",
        "plt.savefig(\"conf_matrix.png\")\n",
        "plt.show()"
      ],
      "execution_count": 46,
      "outputs": [
        {
          "output_type": "stream",
          "text": [
            "Confusion matrix, without normalization\n",
            "[[32  9]\n",
            " [ 2 71]]\n"
          ],
          "name": "stdout"
        },
        {
          "output_type": "display_data",
          "data": {
            "image/png": "[encoded data removed]",
            "text/plain": [
              "<Figure size 720x576 with 2 Axes>"
            ]
          },
          "metadata": {
            "tags": [],
            "needs_background": "light"
          }
        }
      ]
    },
    {
      "cell_type": "code",
      "metadata": {
        "id": "dYwd8yNm5uqp"
      },
      "source": [
        "models_results['Model'].append('XGBClassifier')\n",
        "models_results['F-score'].append(fscore[ix])\n",
        "models_results['Precision'].append(precision[ix])\n",
        "models_results['Recall'].append(recall[ix])\n",
        "models_results['ROC-AUC'].append(roc_auc_score(y_test, preds))\n",
        "models_results['Confusion Matrix'].append(cnf_matrix)"
      ],
      "execution_count": 47,
      "outputs": []
    },
    {
      "cell_type": "markdown",
      "metadata": {
        "id": "gzmZFNgdnA9s"
      },
      "source": [
        "Попробуем PU"
      ]
    },
    {
      "cell_type": "code",
      "metadata": {
        "colab": {
          "base_uri": "https://localhost:8080/"
        },
        "id": "zmYJowTy2U5m",
        "outputId": "ab20b568-4031-4c3f-fa22-915cdf66ba43"
      },
      "source": [
        "mod_data = df.copy()\n",
        "#get the indices of the positives samples\n",
        "pos_ind = np.where(mod_data.iloc[:,-1].values == 1)[0]\n",
        "#shuffle them\n",
        "np.random.shuffle(pos_ind)\n",
        "# leave just 25% of the positives marked\n",
        "pos_sample_len = int(np.ceil(0.25 * len(pos_ind)))\n",
        "print(f'Using {pos_sample_len}/{len(pos_ind)} as positives and unlabeling the rest')\n",
        "pos_sample = pos_ind[:pos_sample_len]"
      ],
      "execution_count": 48,
      "outputs": [
        {
          "output_type": "stream",
          "text": [
            "Using 90/357 as positives and unlabeling the rest\n"
          ],
          "name": "stdout"
        }
      ]
    },
    {
      "cell_type": "code",
      "metadata": {
        "colab": {
          "base_uri": "https://localhost:8080/"
        },
        "id": "fbn5NKQB40tj",
        "outputId": "551f45e0-1aa1-4930-8abb-bcd5da868887"
      },
      "source": [
        "mod_data['class_test'] = -1\n",
        "mod_data.loc[pos_sample,'class_test'] = 1\n",
        "print('target variable:\\n', mod_data.iloc[:,-1].value_counts())"
      ],
      "execution_count": 49,
      "outputs": [
        {
          "output_type": "stream",
          "text": [
            "target variable:\n",
            " -1    479\n",
            " 1     90\n",
            "Name: class_test, dtype: int64\n"
          ],
          "name": "stdout"
        }
      ]
    },
    {
      "cell_type": "code",
      "metadata": {
        "id": "wOldH3NK436-"
      },
      "source": [
        "x_data = mod_data.iloc[:,:-2].values # just the X \n",
        "y_labeled = mod_data.iloc[:,-1].values # new class (just the P & U)\n",
        "y_positive = mod_data.iloc[:,-2].values # original class"
      ],
      "execution_count": 50,
      "outputs": []
    },
    {
      "cell_type": "markdown",
      "metadata": {
        "id": "DeraXmGW4-41"
      },
      "source": [
        "random negative sampling"
      ]
    },
    {
      "cell_type": "code",
      "metadata": {
        "colab": {
          "base_uri": "https://localhost:8080/"
        },
        "id": "Jxi33Cnf461N",
        "outputId": "a3e9ebff-fb0d-4306-bf77-d49bda1fd510"
      },
      "source": [
        "mod_data = mod_data.sample(frac=1)\n",
        "neg_sample = mod_data[mod_data['class_test']==-1][:len(mod_data[mod_data['class_test']==1])]\n",
        "sample_test = mod_data[mod_data['class_test']==-1][len(mod_data[mod_data['class_test']==1]):]\n",
        "pos_sample = mod_data[mod_data['class_test']==1]\n",
        "print(neg_sample.shape, pos_sample.shape)\n",
        "sample_train = pd.concat([neg_sample, pos_sample]).sample(frac=1)"
      ],
      "execution_count": 51,
      "outputs": [
        {
          "output_type": "stream",
          "text": [
            "(90, 7) (90, 7)\n"
          ],
          "name": "stdout"
        }
      ]
    },
    {
      "cell_type": "code",
      "metadata": {
        "id": "TpmZRZFi5Akk"
      },
      "source": [
        "model = xgb.XGBClassifier()\n",
        "\n",
        "model.fit(sample_train.iloc[:,:-2].values, \n",
        "          sample_train.iloc[:,-2].values)\n",
        "preds = model.predict(sample_test.iloc[:,:-2].values)\n"
      ],
      "execution_count": 52,
      "outputs": []
    },
    {
      "cell_type": "code",
      "metadata": {
        "colab": {
          "base_uri": "https://localhost:8080/"
        },
        "id": "irw4vgBF5EWa",
        "outputId": "e4436779-d6ec-45db-d0eb-0e72d10e8530"
      },
      "source": [
        "precision, recall, thresholds = precision_recall_curve(sample_test.iloc[:,-2].values, preds)\n",
        "\n",
        "fscore = (2 * precision * recall) / (precision + recall)\n",
        "# locate the index of the largest f score\n",
        "ix = np.argmax(fscore)\n",
        "print('Best Threshold=%f, F-Score=%.3f, Precision=%.3f, Recall=%.3f' % (thresholds[ix], \n",
        "                                                                        fscore[ix],\n",
        "                                                                        precision[ix],\n",
        "                                                                        recall[ix]))\n",
        "print(f'Roc-Auc: {round(roc_auc_score(sample_test.iloc[:,-2].values, preds), 3)}')"
      ],
      "execution_count": 53,
      "outputs": [
        {
          "output_type": "stream",
          "text": [
            "Best Threshold=1.000000, F-Score=0.897, Precision=0.813, Recall=1.000\n",
            "Roc-Auc: 0.872\n"
          ],
          "name": "stdout"
        }
      ]
    },
    {
      "cell_type": "code",
      "metadata": {
        "id": "OluDms4f59u5"
      },
      "source": [
        "models_results['Model'].append('PU Learn XGBClassifier')\n",
        "models_results['F-score'].append(fscore[ix])\n",
        "models_results['Precision'].append(precision[ix])\n",
        "models_results['Recall'].append(recall[ix])\n",
        "models_results['ROC-AUC'].append(roc_auc_score(sample_test.iloc[:,-2].values, preds))\n",
        "models_results['Confusion Matrix'].append(cnf_matrix)"
      ],
      "execution_count": 54,
      "outputs": []
    },
    {
      "cell_type": "code",
      "metadata": {
        "colab": {
          "base_uri": "https://localhost:8080/",
          "height": 112
        },
        "id": "GJXassd_6TY2",
        "outputId": "466322b5-088b-4dc7-de72-1973ce18520a"
      },
      "source": [
        "pd.DataFrame(data=models_results).sort_values('ROC-AUC', ascending=False)"
      ],
      "execution_count": 55,
      "outputs": [
        {
          "output_type": "execute_result",
          "data": {
            "text/html": [
              "<div>\n",
              "<style scoped>\n",
              "    .dataframe tbody tr th:only-of-type {\n",
              "        vertical-align: middle;\n",
              "    }\n",
              "\n",
              "    .dataframe tbody tr th {\n",
              "        vertical-align: top;\n",
              "    }\n",
              "\n",
              "    .dataframe thead th {\n",
              "        text-align: right;\n",
              "    }\n",
              "</style>\n",
              "<table border=\"1\" class=\"dataframe\">\n",
              "  <thead>\n",
              "    <tr style=\"text-align: right;\">\n",
              "      <th></th>\n",
              "      <th>Model</th>\n",
              "      <th>F-score</th>\n",
              "      <th>Precision</th>\n",
              "      <th>Recall</th>\n",
              "      <th>ROC-AUC</th>\n",
              "      <th>Confusion Matrix</th>\n",
              "    </tr>\n",
              "  </thead>\n",
              "  <tbody>\n",
              "    <tr>\n",
              "      <th>0</th>\n",
              "      <td>XGBClassifier</td>\n",
              "      <td>0.935065</td>\n",
              "      <td>0.888889</td>\n",
              "      <td>0.986301</td>\n",
              "      <td>0.967758</td>\n",
              "      <td>[[32, 9], [2, 71]]</td>\n",
              "    </tr>\n",
              "    <tr>\n",
              "      <th>1</th>\n",
              "      <td>PU Learn XGBClassifier</td>\n",
              "      <td>0.897155</td>\n",
              "      <td>0.813492</td>\n",
              "      <td>1.000000</td>\n",
              "      <td>0.872283</td>\n",
              "      <td>[[32, 9], [2, 71]]</td>\n",
              "    </tr>\n",
              "  </tbody>\n",
              "</table>\n",
              "</div>"
            ],
            "text/plain": [
              "                    Model   F-score  ...   ROC-AUC    Confusion Matrix\n",
              "0           XGBClassifier  0.935065  ...  0.967758  [[32, 9], [2, 71]]\n",
              "1  PU Learn XGBClassifier  0.897155  ...  0.872283  [[32, 9], [2, 71]]\n",
              "\n",
              "[2 rows x 6 columns]"
            ]
          },
          "metadata": {
            "tags": []
          },
          "execution_count": 55
        }
      ]
    },
    {
      "cell_type": "markdown",
      "metadata": {
        "id": "HkMAZBg96_Qd"
      },
      "source": [
        "поэкспериментировать с долей P на шаге 5 (как будет меняться качество модели при уменьшении/увеличении размера P)"
      ]
    },
    {
      "cell_type": "code",
      "metadata": {
        "colab": {
          "base_uri": "https://localhost:8080/"
        },
        "id": "ICDnYgKg6oj7",
        "outputId": "4a30c69d-9828-4b90-84d4-d18a4c0eb3c0"
      },
      "source": [
        "mod_data = df.copy()\n",
        "#get the indices of the positives samples\n",
        "pos_ind = np.where(mod_data.iloc[:,-1].values == 1)[0]\n",
        "#shuffle them\n",
        "np.random.shuffle(pos_ind)\n",
        "pos_sample_len = int(np.ceil(0.5 * len(pos_ind)))\n",
        "print(f'Using {pos_sample_len}/{len(pos_ind)} as positives and unlabeling the rest')\n",
        "pos_sample = pos_ind[:pos_sample_len]"
      ],
      "execution_count": 56,
      "outputs": [
        {
          "output_type": "stream",
          "text": [
            "Using 179/357 as positives and unlabeling the rest\n"
          ],
          "name": "stdout"
        }
      ]
    },
    {
      "cell_type": "code",
      "metadata": {
        "colab": {
          "base_uri": "https://localhost:8080/"
        },
        "id": "UV6xKJW57ZbW",
        "outputId": "82a0e654-7a95-4fde-c371-fef2b3f20cd5"
      },
      "source": [
        "mod_data['class_test'] = -1\n",
        "mod_data.loc[pos_sample,'class_test'] = 1\n",
        "print('target variable:\\n', mod_data.iloc[:,-1].value_counts())"
      ],
      "execution_count": 57,
      "outputs": [
        {
          "output_type": "stream",
          "text": [
            "target variable:\n",
            " -1    390\n",
            " 1    179\n",
            "Name: class_test, dtype: int64\n"
          ],
          "name": "stdout"
        }
      ]
    },
    {
      "cell_type": "code",
      "metadata": {
        "id": "xA2Eo32f7bSs"
      },
      "source": [
        "x_data = mod_data.iloc[:,:-2].values # just the X \n",
        "y_labeled = mod_data.iloc[:,-1].values # new class (just the P & U)\n",
        "y_positive = mod_data.iloc[:,-2].values # original class"
      ],
      "execution_count": 58,
      "outputs": []
    },
    {
      "cell_type": "code",
      "metadata": {
        "colab": {
          "base_uri": "https://localhost:8080/"
        },
        "id": "cbXzd0aa7c-o",
        "outputId": "cd5b255f-7706-4f31-b2b8-03de59eea445"
      },
      "source": [
        "mod_data = mod_data.sample(frac=1)\n",
        "neg_sample = mod_data[mod_data['class_test']==-1][:len(mod_data[mod_data['class_test']==1])]\n",
        "sample_test = mod_data[mod_data['class_test']==-1][len(mod_data[mod_data['class_test']==1]):]\n",
        "pos_sample = mod_data[mod_data['class_test']==1]\n",
        "print(neg_sample.shape, pos_sample.shape)\n",
        "sample_train = pd.concat([neg_sample, pos_sample]).sample(frac=1)"
      ],
      "execution_count": 59,
      "outputs": [
        {
          "output_type": "stream",
          "text": [
            "(179, 7) (179, 7)\n"
          ],
          "name": "stdout"
        }
      ]
    },
    {
      "cell_type": "code",
      "metadata": {
        "id": "b6n9i6eR7ehk"
      },
      "source": [
        "model = xgb.XGBClassifier()\n",
        "\n",
        "model.fit(sample_train.iloc[:,:-2].values, \n",
        "          sample_train.iloc[:,-2].values)\n",
        "preds = model.predict(sample_test.iloc[:,:-2].values)"
      ],
      "execution_count": 60,
      "outputs": []
    },
    {
      "cell_type": "code",
      "metadata": {
        "colab": {
          "base_uri": "https://localhost:8080/"
        },
        "id": "EhlCGT_Q7gAa",
        "outputId": "68000ba5-ab3c-43e9-ba40-27a45c9e01f7"
      },
      "source": [
        "precision, recall, thresholds = precision_recall_curve(sample_test.iloc[:,-2].values, preds)\n",
        "\n",
        "fscore = (2 * precision * recall) / (precision + recall)\n",
        "# locate the index of the largest f score\n",
        "ix = np.argmax(fscore)\n",
        "print('Best Threshold=%f, F-Score=%.3f, Precision=%.3f, Recall=%.3f' % (thresholds[ix], \n",
        "                                                                        fscore[ix],\n",
        "                                                                        precision[ix],\n",
        "                                                                        recall[ix]))\n",
        "print(f'Roc-Auc: {round(roc_auc_score(sample_test.iloc[:,-2].values, preds), 3)}')"
      ],
      "execution_count": 61,
      "outputs": [
        {
          "output_type": "stream",
          "text": [
            "Best Threshold=1.000000, F-Score=0.911, Precision=0.857, Recall=0.971\n",
            "Roc-Auc: 0.906\n"
          ],
          "name": "stdout"
        }
      ]
    },
    {
      "cell_type": "code",
      "metadata": {
        "id": "fYh1Q_qt7ie5"
      },
      "source": [
        "models_results['Model'].append('PU Learn XGBClassifier P = 0.5')\n",
        "models_results['F-score'].append(fscore[ix])\n",
        "models_results['Precision'].append(precision[ix])\n",
        "models_results['Recall'].append(recall[ix])\n",
        "models_results['ROC-AUC'].append(roc_auc_score(sample_test.iloc[:,-2].values, preds))\n",
        "models_results['Confusion Matrix'].append(cnf_matrix)"
      ],
      "execution_count": 62,
      "outputs": []
    },
    {
      "cell_type": "code",
      "metadata": {
        "colab": {
          "base_uri": "https://localhost:8080/"
        },
        "id": "5rRuJ6_F7o8I",
        "outputId": "65843bda-d3ef-425f-ebaa-b0fe1555414b"
      },
      "source": [
        "mod_data = df.copy()\n",
        "#get the indices of the positives samples\n",
        "pos_ind = np.where(mod_data.iloc[:,-1].values == 1)[0]\n",
        "#shuffle them\n",
        "np.random.shuffle(pos_ind)\n",
        "pos_sample_len = int(np.ceil(0.1 * len(pos_ind)))\n",
        "print(f'Using {pos_sample_len}/{len(pos_ind)} as positives and unlabeling the rest')\n",
        "pos_sample = pos_ind[:pos_sample_len]"
      ],
      "execution_count": 63,
      "outputs": [
        {
          "output_type": "stream",
          "text": [
            "Using 36/357 as positives and unlabeling the rest\n"
          ],
          "name": "stdout"
        }
      ]
    },
    {
      "cell_type": "code",
      "metadata": {
        "colab": {
          "base_uri": "https://localhost:8080/"
        },
        "id": "zKnODvDz7thV",
        "outputId": "9b1d6532-91e3-472d-bb52-aacb353332f2"
      },
      "source": [
        "mod_data['class_test'] = -1\n",
        "mod_data.loc[pos_sample,'class_test'] = 1\n",
        "print('target variable:\\n', mod_data.iloc[:,-1].value_counts())"
      ],
      "execution_count": 64,
      "outputs": [
        {
          "output_type": "stream",
          "text": [
            "target variable:\n",
            " -1    533\n",
            " 1     36\n",
            "Name: class_test, dtype: int64\n"
          ],
          "name": "stdout"
        }
      ]
    },
    {
      "cell_type": "code",
      "metadata": {
        "id": "dueemHKx7-3F"
      },
      "source": [
        "x_data = mod_data.iloc[:,:-2].values # just the X \n",
        "y_labeled = mod_data.iloc[:,-1].values # new class (just the P & U)\n",
        "y_positive = mod_data.iloc[:,-2].values # original class"
      ],
      "execution_count": 65,
      "outputs": []
    },
    {
      "cell_type": "code",
      "metadata": {
        "colab": {
          "base_uri": "https://localhost:8080/"
        },
        "id": "ILVAe_gH8Avl",
        "outputId": "fdc61cdf-e145-4a83-e50d-8b9f8842ad86"
      },
      "source": [
        "mod_data = mod_data.sample(frac=1)\n",
        "neg_sample = mod_data[mod_data['class_test']==-1][:len(mod_data[mod_data['class_test']==1])]\n",
        "sample_test = mod_data[mod_data['class_test']==-1][len(mod_data[mod_data['class_test']==1]):]\n",
        "pos_sample = mod_data[mod_data['class_test']==1]\n",
        "print(neg_sample.shape, pos_sample.shape)\n",
        "sample_train = pd.concat([neg_sample, pos_sample]).sample(frac=1)"
      ],
      "execution_count": 66,
      "outputs": [
        {
          "output_type": "stream",
          "text": [
            "(36, 7) (36, 7)\n"
          ],
          "name": "stdout"
        }
      ]
    },
    {
      "cell_type": "code",
      "metadata": {
        "id": "qxBDg7Yr8FHA"
      },
      "source": [
        "model = xgb.XGBClassifier()\n",
        "\n",
        "model.fit(sample_train.iloc[:,:-2].values, \n",
        "          sample_train.iloc[:,-2].values)\n",
        "preds = model.predict(sample_test.iloc[:,:-2].values)"
      ],
      "execution_count": 68,
      "outputs": []
    },
    {
      "cell_type": "code",
      "metadata": {
        "colab": {
          "base_uri": "https://localhost:8080/"
        },
        "id": "IsvoBnas8CYw",
        "outputId": "2fa26b82-e6b3-4566-b9b0-86e3aec9dffd"
      },
      "source": [
        "precision, recall, thresholds = precision_recall_curve(sample_test.iloc[:,-2].values, preds)\n",
        "\n",
        "fscore = (2 * precision * recall) / (precision + recall)\n",
        "# locate the index of the largest f score\n",
        "ix = np.argmax(fscore)\n",
        "print('Best Threshold=%f, F-Score=%.3f, Precision=%.3f, Recall=%.3f' % (thresholds[ix], \n",
        "                                                                        fscore[ix],\n",
        "                                                                        precision[ix],\n",
        "                                                                        recall[ix]))\n",
        "print(f'Roc-Auc: {round(roc_auc_score(sample_test.iloc[:,-2].values, preds), 3)}')"
      ],
      "execution_count": 69,
      "outputs": [
        {
          "output_type": "stream",
          "text": [
            "Best Threshold=1.000000, F-Score=0.908, Precision=0.846, Recall=0.980\n",
            "Roc-Auc: 0.857\n"
          ],
          "name": "stdout"
        }
      ]
    },
    {
      "cell_type": "code",
      "metadata": {
        "id": "fPEwTBE98D2z"
      },
      "source": [
        "models_results['Model'].append('PU Learn XGBClassifier P = 0.1')\n",
        "models_results['F-score'].append(fscore[ix])\n",
        "models_results['Precision'].append(precision[ix])\n",
        "models_results['Recall'].append(recall[ix])\n",
        "models_results['ROC-AUC'].append(roc_auc_score(sample_test.iloc[:,-2].values, preds))\n",
        "models_results['Confusion Matrix'].append(cnf_matrix)"
      ],
      "execution_count": 70,
      "outputs": []
    },
    {
      "cell_type": "code",
      "metadata": {
        "colab": {
          "base_uri": "https://localhost:8080/",
          "height": 175
        },
        "id": "kUqVNnOj8JvN",
        "outputId": "6b9e39ad-754e-4354-9e31-93bebe9fdce9"
      },
      "source": [
        "pd.DataFrame(data=models_results).sort_values('ROC-AUC', ascending=False)"
      ],
      "execution_count": 71,
      "outputs": [
        {
          "output_type": "execute_result",
          "data": {
            "text/html": [
              "<div>\n",
              "<style scoped>\n",
              "    .dataframe tbody tr th:only-of-type {\n",
              "        vertical-align: middle;\n",
              "    }\n",
              "\n",
              "    .dataframe tbody tr th {\n",
              "        vertical-align: top;\n",
              "    }\n",
              "\n",
              "    .dataframe thead th {\n",
              "        text-align: right;\n",
              "    }\n",
              "</style>\n",
              "<table border=\"1\" class=\"dataframe\">\n",
              "  <thead>\n",
              "    <tr style=\"text-align: right;\">\n",
              "      <th></th>\n",
              "      <th>Model</th>\n",
              "      <th>F-score</th>\n",
              "      <th>Precision</th>\n",
              "      <th>Recall</th>\n",
              "      <th>ROC-AUC</th>\n",
              "      <th>Confusion Matrix</th>\n",
              "    </tr>\n",
              "  </thead>\n",
              "  <tbody>\n",
              "    <tr>\n",
              "      <th>0</th>\n",
              "      <td>XGBClassifier</td>\n",
              "      <td>0.935065</td>\n",
              "      <td>0.888889</td>\n",
              "      <td>0.986301</td>\n",
              "      <td>0.967758</td>\n",
              "      <td>[[32, 9], [2, 71]]</td>\n",
              "    </tr>\n",
              "    <tr>\n",
              "      <th>2</th>\n",
              "      <td>PU Learn XGBClassifier P = 0.5</td>\n",
              "      <td>0.910714</td>\n",
              "      <td>0.857143</td>\n",
              "      <td>0.971429</td>\n",
              "      <td>0.905526</td>\n",
              "      <td>[[32, 9], [2, 71]]</td>\n",
              "    </tr>\n",
              "    <tr>\n",
              "      <th>1</th>\n",
              "      <td>PU Learn XGBClassifier</td>\n",
              "      <td>0.897155</td>\n",
              "      <td>0.813492</td>\n",
              "      <td>1.000000</td>\n",
              "      <td>0.872283</td>\n",
              "      <td>[[32, 9], [2, 71]]</td>\n",
              "    </tr>\n",
              "    <tr>\n",
              "      <th>3</th>\n",
              "      <td>PU Learn XGBClassifier P = 0.1</td>\n",
              "      <td>0.908243</td>\n",
              "      <td>0.846377</td>\n",
              "      <td>0.979866</td>\n",
              "      <td>0.856767</td>\n",
              "      <td>[[32, 9], [2, 71]]</td>\n",
              "    </tr>\n",
              "  </tbody>\n",
              "</table>\n",
              "</div>"
            ],
            "text/plain": [
              "                            Model   F-score  ...   ROC-AUC    Confusion Matrix\n",
              "0                   XGBClassifier  0.935065  ...  0.967758  [[32, 9], [2, 71]]\n",
              "2  PU Learn XGBClassifier P = 0.5  0.910714  ...  0.905526  [[32, 9], [2, 71]]\n",
              "1          PU Learn XGBClassifier  0.897155  ...  0.872283  [[32, 9], [2, 71]]\n",
              "3  PU Learn XGBClassifier P = 0.1  0.908243  ...  0.856767  [[32, 9], [2, 71]]\n",
              "\n",
              "[4 rows x 6 columns]"
            ]
          },
          "metadata": {
            "tags": []
          },
          "execution_count": 71
        }
      ]
    },
    {
      "cell_type": "markdown",
      "metadata": {
        "id": "TB0WzA1C8lzY"
      },
      "source": [
        "При увеличение P(следовательно мы уменьшаем кол-во U) метрики растут, при уменьшение падают."
      ]
    },
    {
      "cell_type": "code",
      "metadata": {
        "id": "4s-b18z08L6Z"
      },
      "source": [
        ""
      ],
      "execution_count": null,
      "outputs": []
    }
  ]
}