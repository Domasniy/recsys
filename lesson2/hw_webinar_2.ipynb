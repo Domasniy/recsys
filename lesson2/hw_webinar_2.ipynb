{
  "nbformat": 4,
  "nbformat_minor": 0,
  "metadata": {
    "colab": {
      "name": "hw_webinar_2.ipynb",
      "provenance": [],
      "collapsed_sections": [],
      "toc_visible": true
    },
    "kernelspec": {
      "display_name": "Python 3",
      "language": "python",
      "name": "python3"
    },
    "language_info": {
      "codemirror_mode": {
        "name": "ipython",
        "version": 3
      },
      "file_extension": ".py",
      "mimetype": "text/x-python",
      "name": "python",
      "nbconvert_exporter": "python",
      "pygments_lexer": "ipython3",
      "version": "3.6.5"
    }
  },
  "cells": [
    {
      "cell_type": "code",
      "metadata": {
        "colab": {
          "base_uri": "https://localhost:8080/"
        },
        "id": "Six4yDDR-T5E",
        "outputId": "fb2c47a5-54d9-4ae6-dd52-87b66aec47a2"
      },
      "source": [
        "!pip install implicit"
      ],
      "execution_count": null,
      "outputs": [
        {
          "output_type": "stream",
          "text": [
            "Collecting implicit\n",
            "\u001b[?25l  Downloading https://files.pythonhosted.org/packages/bc/07/c0121884722d16e2c5beeb815f6b84b41cbf22e738e4075f1475be2791bc/implicit-0.4.4.tar.gz (1.1MB)\n",
            "\r\u001b[K     |▎                               | 10kB 21.0MB/s eta 0:00:01\r\u001b[K     |▋                               | 20kB 27.2MB/s eta 0:00:01\r\u001b[K     |▉                               | 30kB 26.0MB/s eta 0:00:01\r\u001b[K     |█▏                              | 40kB 18.9MB/s eta 0:00:01\r\u001b[K     |█▌                              | 51kB 16.3MB/s eta 0:00:01\r\u001b[K     |█▊                              | 61kB 18.4MB/s eta 0:00:01\r\u001b[K     |██                              | 71kB 14.4MB/s eta 0:00:01\r\u001b[K     |██▍                             | 81kB 14.9MB/s eta 0:00:01\r\u001b[K     |██▋                             | 92kB 14.8MB/s eta 0:00:01\r\u001b[K     |███                             | 102kB 13.7MB/s eta 0:00:01\r\u001b[K     |███▎                            | 112kB 13.7MB/s eta 0:00:01\r\u001b[K     |███▌                            | 122kB 13.7MB/s eta 0:00:01\r\u001b[K     |███▉                            | 133kB 13.7MB/s eta 0:00:01\r\u001b[K     |████▏                           | 143kB 13.7MB/s eta 0:00:01\r\u001b[K     |████▍                           | 153kB 13.7MB/s eta 0:00:01\r\u001b[K     |████▊                           | 163kB 13.7MB/s eta 0:00:01\r\u001b[K     |█████                           | 174kB 13.7MB/s eta 0:00:01\r\u001b[K     |█████▎                          | 184kB 13.7MB/s eta 0:00:01\r\u001b[K     |█████▋                          | 194kB 13.7MB/s eta 0:00:01\r\u001b[K     |██████                          | 204kB 13.7MB/s eta 0:00:01\r\u001b[K     |██████▏                         | 215kB 13.7MB/s eta 0:00:01\r\u001b[K     |██████▌                         | 225kB 13.7MB/s eta 0:00:01\r\u001b[K     |██████▉                         | 235kB 13.7MB/s eta 0:00:01\r\u001b[K     |███████                         | 245kB 13.7MB/s eta 0:00:01\r\u001b[K     |███████▍                        | 256kB 13.7MB/s eta 0:00:01\r\u001b[K     |███████▊                        | 266kB 13.7MB/s eta 0:00:01\r\u001b[K     |████████                        | 276kB 13.7MB/s eta 0:00:01\r\u001b[K     |████████▎                       | 286kB 13.7MB/s eta 0:00:01\r\u001b[K     |████████▋                       | 296kB 13.7MB/s eta 0:00:01\r\u001b[K     |████████▉                       | 307kB 13.7MB/s eta 0:00:01\r\u001b[K     |█████████▏                      | 317kB 13.7MB/s eta 0:00:01\r\u001b[K     |█████████▌                      | 327kB 13.7MB/s eta 0:00:01\r\u001b[K     |█████████▊                      | 337kB 13.7MB/s eta 0:00:01\r\u001b[K     |██████████                      | 348kB 13.7MB/s eta 0:00:01\r\u001b[K     |██████████▍                     | 358kB 13.7MB/s eta 0:00:01\r\u001b[K     |██████████▋                     | 368kB 13.7MB/s eta 0:00:01\r\u001b[K     |███████████                     | 378kB 13.7MB/s eta 0:00:01\r\u001b[K     |███████████▏                    | 389kB 13.7MB/s eta 0:00:01\r\u001b[K     |███████████▌                    | 399kB 13.7MB/s eta 0:00:01\r\u001b[K     |███████████▉                    | 409kB 13.7MB/s eta 0:00:01\r\u001b[K     |████████████                    | 419kB 13.7MB/s eta 0:00:01\r\u001b[K     |████████████▍                   | 430kB 13.7MB/s eta 0:00:01\r\u001b[K     |████████████▊                   | 440kB 13.7MB/s eta 0:00:01\r\u001b[K     |█████████████                   | 450kB 13.7MB/s eta 0:00:01\r\u001b[K     |█████████████▎                  | 460kB 13.7MB/s eta 0:00:01\r\u001b[K     |█████████████▋                  | 471kB 13.7MB/s eta 0:00:01\r\u001b[K     |█████████████▉                  | 481kB 13.7MB/s eta 0:00:01\r\u001b[K     |██████████████▏                 | 491kB 13.7MB/s eta 0:00:01\r\u001b[K     |██████████████▌                 | 501kB 13.7MB/s eta 0:00:01\r\u001b[K     |██████████████▊                 | 512kB 13.7MB/s eta 0:00:01\r\u001b[K     |███████████████                 | 522kB 13.7MB/s eta 0:00:01\r\u001b[K     |███████████████▍                | 532kB 13.7MB/s eta 0:00:01\r\u001b[K     |███████████████▋                | 542kB 13.7MB/s eta 0:00:01\r\u001b[K     |████████████████                | 552kB 13.7MB/s eta 0:00:01\r\u001b[K     |████████████████▎               | 563kB 13.7MB/s eta 0:00:01\r\u001b[K     |████████████████▌               | 573kB 13.7MB/s eta 0:00:01\r\u001b[K     |████████████████▉               | 583kB 13.7MB/s eta 0:00:01\r\u001b[K     |█████████████████▏              | 593kB 13.7MB/s eta 0:00:01\r\u001b[K     |█████████████████▍              | 604kB 13.7MB/s eta 0:00:01\r\u001b[K     |█████████████████▊              | 614kB 13.7MB/s eta 0:00:01\r\u001b[K     |██████████████████              | 624kB 13.7MB/s eta 0:00:01\r\u001b[K     |██████████████████▎             | 634kB 13.7MB/s eta 0:00:01\r\u001b[K     |██████████████████▋             | 645kB 13.7MB/s eta 0:00:01\r\u001b[K     |███████████████████             | 655kB 13.7MB/s eta 0:00:01\r\u001b[K     |███████████████████▏            | 665kB 13.7MB/s eta 0:00:01\r\u001b[K     |███████████████████▌            | 675kB 13.7MB/s eta 0:00:01\r\u001b[K     |███████████████████▉            | 686kB 13.7MB/s eta 0:00:01\r\u001b[K     |████████████████████            | 696kB 13.7MB/s eta 0:00:01\r\u001b[K     |████████████████████▍           | 706kB 13.7MB/s eta 0:00:01\r\u001b[K     |████████████████████▊           | 716kB 13.7MB/s eta 0:00:01\r\u001b[K     |█████████████████████           | 727kB 13.7MB/s eta 0:00:01\r\u001b[K     |█████████████████████▎          | 737kB 13.7MB/s eta 0:00:01\r\u001b[K     |█████████████████████▋          | 747kB 13.7MB/s eta 0:00:01\r\u001b[K     |█████████████████████▉          | 757kB 13.7MB/s eta 0:00:01\r\u001b[K     |██████████████████████▏         | 768kB 13.7MB/s eta 0:00:01\r\u001b[K     |██████████████████████▍         | 778kB 13.7MB/s eta 0:00:01\r\u001b[K     |██████████████████████▊         | 788kB 13.7MB/s eta 0:00:01\r\u001b[K     |███████████████████████         | 798kB 13.7MB/s eta 0:00:01\r\u001b[K     |███████████████████████▎        | 808kB 13.7MB/s eta 0:00:01\r\u001b[K     |███████████████████████▋        | 819kB 13.7MB/s eta 0:00:01\r\u001b[K     |████████████████████████        | 829kB 13.7MB/s eta 0:00:01\r\u001b[K     |████████████████████████▏       | 839kB 13.7MB/s eta 0:00:01\r\u001b[K     |████████████████████████▌       | 849kB 13.7MB/s eta 0:00:01\r\u001b[K     |████████████████████████▉       | 860kB 13.7MB/s eta 0:00:01\r\u001b[K     |█████████████████████████       | 870kB 13.7MB/s eta 0:00:01\r\u001b[K     |█████████████████████████▍      | 880kB 13.7MB/s eta 0:00:01\r\u001b[K     |█████████████████████████▊      | 890kB 13.7MB/s eta 0:00:01\r\u001b[K     |██████████████████████████      | 901kB 13.7MB/s eta 0:00:01\r\u001b[K     |██████████████████████████▎     | 911kB 13.7MB/s eta 0:00:01\r\u001b[K     |██████████████████████████▋     | 921kB 13.7MB/s eta 0:00:01\r\u001b[K     |██████████████████████████▉     | 931kB 13.7MB/s eta 0:00:01\r\u001b[K     |███████████████████████████▏    | 942kB 13.7MB/s eta 0:00:01\r\u001b[K     |███████████████████████████▌    | 952kB 13.7MB/s eta 0:00:01\r\u001b[K     |███████████████████████████▊    | 962kB 13.7MB/s eta 0:00:01\r\u001b[K     |████████████████████████████    | 972kB 13.7MB/s eta 0:00:01\r\u001b[K     |████████████████████████████▍   | 983kB 13.7MB/s eta 0:00:01\r\u001b[K     |████████████████████████████▋   | 993kB 13.7MB/s eta 0:00:01\r\u001b[K     |█████████████████████████████   | 1.0MB 13.7MB/s eta 0:00:01\r\u001b[K     |█████████████████████████████▎  | 1.0MB 13.7MB/s eta 0:00:01\r\u001b[K     |█████████████████████████████▌  | 1.0MB 13.7MB/s eta 0:00:01\r\u001b[K     |█████████████████████████████▉  | 1.0MB 13.7MB/s eta 0:00:01\r\u001b[K     |██████████████████████████████▏ | 1.0MB 13.7MB/s eta 0:00:01\r\u001b[K     |██████████████████████████████▍ | 1.1MB 13.7MB/s eta 0:00:01\r\u001b[K     |██████████████████████████████▊ | 1.1MB 13.7MB/s eta 0:00:01\r\u001b[K     |███████████████████████████████ | 1.1MB 13.7MB/s eta 0:00:01\r\u001b[K     |███████████████████████████████▎| 1.1MB 13.7MB/s eta 0:00:01\r\u001b[K     |███████████████████████████████▋| 1.1MB 13.7MB/s eta 0:00:01\r\u001b[K     |████████████████████████████████| 1.1MB 13.7MB/s eta 0:00:01\r\u001b[K     |████████████████████████████████| 1.1MB 13.7MB/s \n",
            "\u001b[?25hRequirement already satisfied: numpy in /usr/local/lib/python3.6/dist-packages (from implicit) (1.19.5)\n",
            "Requirement already satisfied: scipy>=0.16 in /usr/local/lib/python3.6/dist-packages (from implicit) (1.4.1)\n",
            "Requirement already satisfied: tqdm>=4.27 in /usr/local/lib/python3.6/dist-packages (from implicit) (4.41.1)\n",
            "Building wheels for collected packages: implicit\n",
            "  Building wheel for implicit (setup.py) ... \u001b[?25l\u001b[?25hdone\n",
            "  Created wheel for implicit: filename=implicit-0.4.4-cp36-cp36m-linux_x86_64.whl size=3419445 sha256=24c31cf4efae98d11d1e6f3f9afb003e97e6b01121f43e5bf058732f06c12816\n",
            "  Stored in directory: /root/.cache/pip/wheels/bf/d4/ec/fd4f622fcbefb7521f149905295b2c26adecb23af38aa28217\n",
            "Successfully built implicit\n",
            "Installing collected packages: implicit\n",
            "Successfully installed implicit-0.4.4\n"
          ],
          "name": "stdout"
        }
      ]
    },
    {
      "cell_type": "code",
      "metadata": {
        "colab": {
          "base_uri": "https://localhost:8080/"
        },
        "id": "YetYYwuu_tms",
        "outputId": "7b52eb92-5778-4cd9-efa8-4c8e4c82d35c"
      },
      "source": [
        "!unzip retail_train.zip"
      ],
      "execution_count": null,
      "outputs": [
        {
          "output_type": "stream",
          "text": [
            "Archive:  retail_train.zip\n",
            "  inflating: retail_train.csv        \n"
          ],
          "name": "stdout"
        }
      ]
    },
    {
      "cell_type": "code",
      "metadata": {
        "id": "rgIzW-DSC8Yi"
      },
      "source": [
        "import pandas as pd\n",
        "import numpy as np\n",
        "import matplotlib.pyplot as plt\n",
        "%matplotlib inline\n",
        "\n",
        "# Для работы с матрицами\n",
        "from scipy.sparse import csr_matrix, coo_matrix\n",
        "\n",
        "# Детерминированные алгоритмы\n",
        "from implicit.nearest_neighbours import ItemItemRecommender, CosineRecommender, TFIDFRecommender, BM25Recommender\n",
        "\n",
        "# Метрики\n",
        "from implicit.evaluation import train_test_split\n",
        "from implicit.evaluation import precision_at_k, mean_average_precision_at_k, AUC_at_k, ndcg_at_k"
      ],
      "execution_count": null,
      "outputs": []
    },
    {
      "cell_type": "code",
      "metadata": {
        "colab": {
          "base_uri": "https://localhost:8080/",
          "height": 112
        },
        "id": "9qFkcgyrC8Yt",
        "outputId": "c708297c-e13f-45a7-d5eb-f829710c7bde"
      },
      "source": [
        "data = pd.read_csv('retail_train.csv')\n",
        "data.head(2)"
      ],
      "execution_count": null,
      "outputs": [
        {
          "output_type": "execute_result",
          "data": {
            "text/html": [
              "<div>\n",
              "<style scoped>\n",
              "    .dataframe tbody tr th:only-of-type {\n",
              "        vertical-align: middle;\n",
              "    }\n",
              "\n",
              "    .dataframe tbody tr th {\n",
              "        vertical-align: top;\n",
              "    }\n",
              "\n",
              "    .dataframe thead th {\n",
              "        text-align: right;\n",
              "    }\n",
              "</style>\n",
              "<table border=\"1\" class=\"dataframe\">\n",
              "  <thead>\n",
              "    <tr style=\"text-align: right;\">\n",
              "      <th></th>\n",
              "      <th>user_id</th>\n",
              "      <th>basket_id</th>\n",
              "      <th>day</th>\n",
              "      <th>item_id</th>\n",
              "      <th>quantity</th>\n",
              "      <th>sales_value</th>\n",
              "      <th>store_id</th>\n",
              "      <th>retail_disc</th>\n",
              "      <th>trans_time</th>\n",
              "      <th>week_no</th>\n",
              "      <th>coupon_disc</th>\n",
              "      <th>coupon_match_disc</th>\n",
              "    </tr>\n",
              "  </thead>\n",
              "  <tbody>\n",
              "    <tr>\n",
              "      <th>0</th>\n",
              "      <td>2375</td>\n",
              "      <td>26984851472</td>\n",
              "      <td>1</td>\n",
              "      <td>1004906</td>\n",
              "      <td>1</td>\n",
              "      <td>1.39</td>\n",
              "      <td>364</td>\n",
              "      <td>-0.6</td>\n",
              "      <td>1631</td>\n",
              "      <td>1</td>\n",
              "      <td>0.0</td>\n",
              "      <td>0.0</td>\n",
              "    </tr>\n",
              "    <tr>\n",
              "      <th>1</th>\n",
              "      <td>2375</td>\n",
              "      <td>26984851472</td>\n",
              "      <td>1</td>\n",
              "      <td>1033142</td>\n",
              "      <td>1</td>\n",
              "      <td>0.82</td>\n",
              "      <td>364</td>\n",
              "      <td>0.0</td>\n",
              "      <td>1631</td>\n",
              "      <td>1</td>\n",
              "      <td>0.0</td>\n",
              "      <td>0.0</td>\n",
              "    </tr>\n",
              "  </tbody>\n",
              "</table>\n",
              "</div>"
            ],
            "text/plain": [
              "   user_id    basket_id  day  ...  week_no  coupon_disc  coupon_match_disc\n",
              "0     2375  26984851472    1  ...        1          0.0                0.0\n",
              "1     2375  26984851472    1  ...        1          0.0                0.0\n",
              "\n",
              "[2 rows x 12 columns]"
            ]
          },
          "metadata": {
            "tags": []
          },
          "execution_count": 105
        }
      ]
    },
    {
      "cell_type": "code",
      "metadata": {
        "id": "epcBZlgJC8Y0"
      },
      "source": [
        "test_size_weeks = 3\n",
        "\n",
        "data_train = data[data['week_no'] < data['week_no'].max() - test_size_weeks]\n",
        "data_test = data[data['week_no'] >= data['week_no'].max() - test_size_weeks]"
      ],
      "execution_count": null,
      "outputs": []
    },
    {
      "cell_type": "code",
      "metadata": {
        "colab": {
          "base_uri": "https://localhost:8080/",
          "height": 363
        },
        "id": "gh7VTq9BCrFA",
        "outputId": "a8b33d90-1f09-465a-f6e9-e6433b146e0d"
      },
      "source": [
        "result = data_test.groupby('user_id')['item_id'].unique().reset_index()\r\n",
        "result.columns=['user_id', 'actual']\r\n",
        "result['actual'] = result['actual'].apply(lambda x: list(x))\r\n",
        "result.head(10)"
      ],
      "execution_count": null,
      "outputs": [
        {
          "output_type": "execute_result",
          "data": {
            "text/html": [
              "<div>\n",
              "<style scoped>\n",
              "    .dataframe tbody tr th:only-of-type {\n",
              "        vertical-align: middle;\n",
              "    }\n",
              "\n",
              "    .dataframe tbody tr th {\n",
              "        vertical-align: top;\n",
              "    }\n",
              "\n",
              "    .dataframe thead th {\n",
              "        text-align: right;\n",
              "    }\n",
              "</style>\n",
              "<table border=\"1\" class=\"dataframe\">\n",
              "  <thead>\n",
              "    <tr style=\"text-align: right;\">\n",
              "      <th></th>\n",
              "      <th>user_id</th>\n",
              "      <th>actual</th>\n",
              "    </tr>\n",
              "  </thead>\n",
              "  <tbody>\n",
              "    <tr>\n",
              "      <th>0</th>\n",
              "      <td>1</td>\n",
              "      <td>[821867, 834484, 856942, 865456, 889248, 90795...</td>\n",
              "    </tr>\n",
              "    <tr>\n",
              "      <th>1</th>\n",
              "      <td>3</td>\n",
              "      <td>[835476, 851057, 872021, 878302, 879948, 90963...</td>\n",
              "    </tr>\n",
              "    <tr>\n",
              "      <th>2</th>\n",
              "      <td>6</td>\n",
              "      <td>[920308, 926804, 946489, 1006718, 1017061, 107...</td>\n",
              "    </tr>\n",
              "    <tr>\n",
              "      <th>3</th>\n",
              "      <td>7</td>\n",
              "      <td>[840386, 889774, 898068, 909714, 929067, 95347...</td>\n",
              "    </tr>\n",
              "    <tr>\n",
              "      <th>4</th>\n",
              "      <td>8</td>\n",
              "      <td>[835098, 872137, 910439, 924610, 992977, 10412...</td>\n",
              "    </tr>\n",
              "    <tr>\n",
              "      <th>5</th>\n",
              "      <td>9</td>\n",
              "      <td>[864335, 990865, 1029743, 9297474, 10457112, 8...</td>\n",
              "    </tr>\n",
              "    <tr>\n",
              "      <th>6</th>\n",
              "      <td>13</td>\n",
              "      <td>[6534178, 1104146, 829197, 840361, 862070, 884...</td>\n",
              "    </tr>\n",
              "    <tr>\n",
              "      <th>7</th>\n",
              "      <td>14</td>\n",
              "      <td>[840601, 867293, 933067, 951590, 952408, 96569...</td>\n",
              "    </tr>\n",
              "    <tr>\n",
              "      <th>8</th>\n",
              "      <td>15</td>\n",
              "      <td>[910439, 1082185, 959076, 1023958, 1082310, 13...</td>\n",
              "    </tr>\n",
              "    <tr>\n",
              "      <th>9</th>\n",
              "      <td>16</td>\n",
              "      <td>[1062973, 1082185, 13007710]</td>\n",
              "    </tr>\n",
              "  </tbody>\n",
              "</table>\n",
              "</div>"
            ],
            "text/plain": [
              "   user_id                                             actual\n",
              "0        1  [821867, 834484, 856942, 865456, 889248, 90795...\n",
              "1        3  [835476, 851057, 872021, 878302, 879948, 90963...\n",
              "2        6  [920308, 926804, 946489, 1006718, 1017061, 107...\n",
              "3        7  [840386, 889774, 898068, 909714, 929067, 95347...\n",
              "4        8  [835098, 872137, 910439, 924610, 992977, 10412...\n",
              "5        9  [864335, 990865, 1029743, 9297474, 10457112, 8...\n",
              "6       13  [6534178, 1104146, 829197, 840361, 862070, 884...\n",
              "7       14  [840601, 867293, 933067, 951590, 952408, 96569...\n",
              "8       15  [910439, 1082185, 959076, 1023958, 1082310, 13...\n",
              "9       16                       [1062973, 1082185, 13007710]"
            ]
          },
          "metadata": {
            "tags": []
          },
          "execution_count": 107
        }
      ]
    },
    {
      "cell_type": "markdown",
      "metadata": {
        "id": "CG33k42f-FFL"
      },
      "source": [
        "# Оценивание\n",
        "За выполнени каждого задания 1 балл\n",
        "\n",
        "4 балла -> отл\n",
        "\n",
        "3 балла -> хор\n",
        "\n",
        "И тд"
      ]
    },
    {
      "cell_type": "markdown",
      "metadata": {
        "id": "0J8HSUDa-FFM"
      },
      "source": [
        "### Задание 0. Товар 999999\n",
        "**На вебинаре мы использовали товар 999999 - что это за товар?**\n",
        "\n",
        "*Искуственно созданный товар*\n",
        "\n",
        "**Зачем он нужен?**\n",
        "\n",
        "*Чтобы не потерять пользователей в матрице, которые не покупали товары из топ-5000*\n",
        "\n",
        "**Используя этот товар мы смещаем качество рекомендаций.\n",
        "В какую сторону?**\n",
        "\n",
        "*В сторону этого товара, он будет присутствовать для большинства пользователей, и следователько попадать почти во все рекомендации*\n",
        "\n",
        "Можно ли удалить этот товар?\n",
        "\n",
        "Уберите этот товар и сравните с качеством на семинаре."
      ]
    },
    {
      "cell_type": "markdown",
      "metadata": {
        "id": "zlUUzLFeC8Y4"
      },
      "source": [
        "### Задание 1. Weighted Random Recommendation\n",
        "\n",
        "Напишите код для случайных рекоммендаций, в которых вероятность рекомендовать товар прямо пропорциональна логарифму продаж\n",
        "- Можно сэмплировать товары случайно, но пропорционально какому-либо весу\n",
        "- Например, прямопропорционально популярности. вес = log(sales_sum товара)\n",
        "- Придумайте пример 3 весов, посчитайте weighted_random_recommendation для разных весов"
      ]
    },
    {
      "cell_type": "code",
      "metadata": {
        "colab": {
          "base_uri": "https://localhost:8080/"
        },
        "id": "15ay8KlspDTG",
        "outputId": "32035904-edb5-4de3-b07e-36ae240ec735"
      },
      "source": [
        "data_train.item_id.nunique()"
      ],
      "execution_count": null,
      "outputs": [
        {
          "output_type": "execute_result",
          "data": {
            "text/plain": [
              "86865"
            ]
          },
          "metadata": {
            "tags": []
          },
          "execution_count": 28
        }
      ]
    },
    {
      "cell_type": "code",
      "metadata": {
        "id": "brMuCHolC8Y4"
      },
      "source": [
        "def weighted_random_recommendation(items_weights, n=5):\n",
        "    \"\"\"Случайные рекоммендации\n",
        "    \n",
        "    Input\n",
        "    -----\n",
        "    items_weights: pd.DataFrame\n",
        "        Датафрейм со столбцами item_id, weight. Сумма weight по всем товарам = 1\n",
        "    \"\"\"\n",
        "    \n",
        "    # Подсказка: необходимо модифицировать функцию random_recommendation()\n",
        "    # your_code\n",
        "    \n",
        "    items = np.array(items_weights['item_id'])\n",
        "    weights = np.array(items_weights['weight'])\n",
        "    recs = np.random.choice(items, size=n,replace=False, p = weights)\n",
        "    \n",
        "    \n",
        "    return recs.tolist()"
      ],
      "execution_count": null,
      "outputs": []
    },
    {
      "cell_type": "code",
      "metadata": {
        "colab": {
          "base_uri": "https://localhost:8080/",
          "height": 424
        },
        "id": "EioOLKdIDUJL",
        "outputId": "98b91b0b-43d3-4e4b-d89a-9c24613caa7b"
      },
      "source": [
        "#По кол-ву проданных штук\r\n",
        "items_weights_quantity = data_train.groupby('item_id')['quantity'].sum().reset_index()\r\n",
        "items_weights_quantity['weight'] = items_weights_quantity['quantity'].apply(lambda x: np.log(x) if x != 0 else x)\r\n",
        "items_weights_quantity['weight'] = items_weights_quantity['weight'] / items_weights_quantity['weight'].sum()\r\n",
        "\r\n",
        "#По сумме продаж\r\n",
        "items_weights_sales = data_train.groupby('item_id')['sales_value'].sum().reset_index()\r\n",
        "items_weights_sales['weight'] = items_weights_sales['sales_value'].apply(lambda x: abs(np.log(x)) if x != 0 else x)\r\n",
        "items_weights_sales['weight'] = items_weights_sales['weight'] / items_weights_sales['weight'].sum()\r\n",
        "\r\n",
        "#По кол-ву отдельных продаж (добавил единицу, чтобы не было 0, если проданна одна штука)\r\n",
        "items_weights_counts = data_train.groupby('item_id')['sales_value'].count().reset_index()\r\n",
        "items_weights_counts['weight'] = items_weights_counts['sales_value'].apply(lambda x: abs(np.log(x + 1)) if x != 0 else x)\r\n",
        "items_weights_counts['weight'] = items_weights_counts['weight'] / items_weights_counts['weight'].sum()\r\n",
        "items_weights_counts"
      ],
      "execution_count": null,
      "outputs": [
        {
          "output_type": "execute_result",
          "data": {
            "text/html": [
              "<div>\n",
              "<style scoped>\n",
              "    .dataframe tbody tr th:only-of-type {\n",
              "        vertical-align: middle;\n",
              "    }\n",
              "\n",
              "    .dataframe tbody tr th {\n",
              "        vertical-align: top;\n",
              "    }\n",
              "\n",
              "    .dataframe thead th {\n",
              "        text-align: right;\n",
              "    }\n",
              "</style>\n",
              "<table border=\"1\" class=\"dataframe\">\n",
              "  <thead>\n",
              "    <tr style=\"text-align: right;\">\n",
              "      <th></th>\n",
              "      <th>item_id</th>\n",
              "      <th>sales_value</th>\n",
              "      <th>weight</th>\n",
              "    </tr>\n",
              "  </thead>\n",
              "  <tbody>\n",
              "    <tr>\n",
              "      <th>0</th>\n",
              "      <td>25671</td>\n",
              "      <td>3</td>\n",
              "      <td>0.000009</td>\n",
              "    </tr>\n",
              "    <tr>\n",
              "      <th>1</th>\n",
              "      <td>26081</td>\n",
              "      <td>1</td>\n",
              "      <td>0.000004</td>\n",
              "    </tr>\n",
              "    <tr>\n",
              "      <th>2</th>\n",
              "      <td>26093</td>\n",
              "      <td>1</td>\n",
              "      <td>0.000004</td>\n",
              "    </tr>\n",
              "    <tr>\n",
              "      <th>3</th>\n",
              "      <td>26190</td>\n",
              "      <td>1</td>\n",
              "      <td>0.000004</td>\n",
              "    </tr>\n",
              "    <tr>\n",
              "      <th>4</th>\n",
              "      <td>26355</td>\n",
              "      <td>1</td>\n",
              "      <td>0.000004</td>\n",
              "    </tr>\n",
              "    <tr>\n",
              "      <th>...</th>\n",
              "      <td>...</td>\n",
              "      <td>...</td>\n",
              "      <td>...</td>\n",
              "    </tr>\n",
              "    <tr>\n",
              "      <th>86860</th>\n",
              "      <td>17381856</td>\n",
              "      <td>1</td>\n",
              "      <td>0.000004</td>\n",
              "    </tr>\n",
              "    <tr>\n",
              "      <th>86861</th>\n",
              "      <td>17382205</td>\n",
              "      <td>1</td>\n",
              "      <td>0.000004</td>\n",
              "    </tr>\n",
              "    <tr>\n",
              "      <th>86862</th>\n",
              "      <td>17383227</td>\n",
              "      <td>1</td>\n",
              "      <td>0.000004</td>\n",
              "    </tr>\n",
              "    <tr>\n",
              "      <th>86863</th>\n",
              "      <td>17827644</td>\n",
              "      <td>1</td>\n",
              "      <td>0.000004</td>\n",
              "    </tr>\n",
              "    <tr>\n",
              "      <th>86864</th>\n",
              "      <td>17829232</td>\n",
              "      <td>2</td>\n",
              "      <td>0.000007</td>\n",
              "    </tr>\n",
              "  </tbody>\n",
              "</table>\n",
              "<p>86865 rows × 3 columns</p>\n",
              "</div>"
            ],
            "text/plain": [
              "        item_id  sales_value    weight\n",
              "0         25671            3  0.000009\n",
              "1         26081            1  0.000004\n",
              "2         26093            1  0.000004\n",
              "3         26190            1  0.000004\n",
              "4         26355            1  0.000004\n",
              "...         ...          ...       ...\n",
              "86860  17381856            1  0.000004\n",
              "86861  17382205            1  0.000004\n",
              "86862  17383227            1  0.000004\n",
              "86863  17827644            1  0.000004\n",
              "86864  17829232            2  0.000007\n",
              "\n",
              "[86865 rows x 3 columns]"
            ]
          },
          "metadata": {
            "tags": []
          },
          "execution_count": 109
        }
      ]
    },
    {
      "cell_type": "markdown",
      "metadata": {
        "id": "P26PVbbU-FFO"
      },
      "source": [
        "Сделайте предсказания"
      ]
    },
    {
      "cell_type": "code",
      "metadata": {
        "id": "nK_AS3tmC8Y7",
        "colab": {
          "base_uri": "https://localhost:8080/"
        },
        "outputId": "d5642c39-0546-4a23-87d0-d5b53ab894db"
      },
      "source": [
        "%%time\n",
        "\n",
        "# your_code\n",
        "result['weighted_random_recommendation_quantity'] = result['user_id'].apply(lambda x: weighted_random_recommendation(items_weights_quantity, n=5))\n",
        "result['weighted_random_recommendation_sales'] = result['user_id'].apply(lambda x: weighted_random_recommendation(items_weights_sales, n=5))\n",
        "result['weighted_random_recommendation_counts'] = result['user_id'].apply(lambda x: weighted_random_recommendation(items_weights_counts, n=5))"
      ],
      "execution_count": null,
      "outputs": [
        {
          "output_type": "stream",
          "text": [
            "CPU times: user 9.64 s, sys: 204 ms, total: 9.84 s\n",
            "Wall time: 9.86 s\n"
          ],
          "name": "stdout"
        }
      ]
    },
    {
      "cell_type": "code",
      "metadata": {
        "colab": {
          "base_uri": "https://localhost:8080/",
          "height": 112
        },
        "id": "Aw-WEWoBL9PB",
        "outputId": "d8bbf469-bb4b-4d8a-d700-c97433817efa"
      },
      "source": [
        "result.head(2)"
      ],
      "execution_count": null,
      "outputs": [
        {
          "output_type": "execute_result",
          "data": {
            "text/html": [
              "<div>\n",
              "<style scoped>\n",
              "    .dataframe tbody tr th:only-of-type {\n",
              "        vertical-align: middle;\n",
              "    }\n",
              "\n",
              "    .dataframe tbody tr th {\n",
              "        vertical-align: top;\n",
              "    }\n",
              "\n",
              "    .dataframe thead th {\n",
              "        text-align: right;\n",
              "    }\n",
              "</style>\n",
              "<table border=\"1\" class=\"dataframe\">\n",
              "  <thead>\n",
              "    <tr style=\"text-align: right;\">\n",
              "      <th></th>\n",
              "      <th>user_id</th>\n",
              "      <th>actual</th>\n",
              "      <th>weighted_random_recommendation_quantity</th>\n",
              "      <th>weighted_random_recommendation_sales</th>\n",
              "      <th>weighted_random_recommendation_counts</th>\n",
              "    </tr>\n",
              "  </thead>\n",
              "  <tbody>\n",
              "    <tr>\n",
              "      <th>0</th>\n",
              "      <td>1</td>\n",
              "      <td>[821867, 834484, 856942, 865456, 889248, 90795...</td>\n",
              "      <td>[9527615, 983936, 951299, 787798, 10457483]</td>\n",
              "      <td>[12188573, 1523514, 938292, 15687116, 889355]</td>\n",
              "      <td>[9297504, 1050441, 923403, 1013259, 9487003]</td>\n",
              "    </tr>\n",
              "    <tr>\n",
              "      <th>1</th>\n",
              "      <td>3</td>\n",
              "      <td>[835476, 851057, 872021, 878302, 879948, 90963...</td>\n",
              "      <td>[1126252, 945385, 6469294, 13072796, 12810242]</td>\n",
              "      <td>[9484494, 5569301, 1002787, 837509, 1130323]</td>\n",
              "      <td>[1086644, 826830, 10250438, 9858866, 1111032]</td>\n",
              "    </tr>\n",
              "  </tbody>\n",
              "</table>\n",
              "</div>"
            ],
            "text/plain": [
              "   user_id  ...          weighted_random_recommendation_counts\n",
              "0        1  ...   [9297504, 1050441, 923403, 1013259, 9487003]\n",
              "1        3  ...  [1086644, 826830, 10250438, 9858866, 1111032]\n",
              "\n",
              "[2 rows x 5 columns]"
            ]
          },
          "metadata": {
            "tags": []
          },
          "execution_count": 111
        }
      ]
    },
    {
      "cell_type": "markdown",
      "metadata": {
        "id": "hyNG6O-wC8Y_"
      },
      "source": [
        "### Задание 2. Расчет метрик\n",
        "Рассчитайте Precision@5 для каждого алгоритма (с вебинара и weighted_random_recommendation) с помощью функции из вебинара 1. Какой алгоритм показывает лучшее качество? Почему?"
      ]
    },
    {
      "cell_type": "code",
      "metadata": {
        "colab": {
          "base_uri": "https://localhost:8080/",
          "height": 293
        },
        "id": "36HtRgm8C8ZA",
        "outputId": "fb283a9e-761b-4225-e5ef-696518537fbb"
      },
      "source": [
        "result_webinar = pd.read_csv('preds.csv')# закгрузка predict с семианара\n",
        "result_webinar.head()"
      ],
      "execution_count": null,
      "outputs": [
        {
          "output_type": "execute_result",
          "data": {
            "text/html": [
              "<div>\n",
              "<style scoped>\n",
              "    .dataframe tbody tr th:only-of-type {\n",
              "        vertical-align: middle;\n",
              "    }\n",
              "\n",
              "    .dataframe tbody tr th {\n",
              "        vertical-align: top;\n",
              "    }\n",
              "\n",
              "    .dataframe thead th {\n",
              "        text-align: right;\n",
              "    }\n",
              "</style>\n",
              "<table border=\"1\" class=\"dataframe\">\n",
              "  <thead>\n",
              "    <tr style=\"text-align: right;\">\n",
              "      <th></th>\n",
              "      <th>user_id</th>\n",
              "      <th>actual</th>\n",
              "      <th>random_recommendation</th>\n",
              "      <th>popular_recommendation</th>\n",
              "      <th>itemitem</th>\n",
              "      <th>cosine</th>\n",
              "      <th>tfidf</th>\n",
              "    </tr>\n",
              "  </thead>\n",
              "  <tbody>\n",
              "    <tr>\n",
              "      <th>0</th>\n",
              "      <td>1</td>\n",
              "      <td>[821867, 834484, 856942, 865456, 889248, 90795...</td>\n",
              "      <td>[8067309, 13189944, 874071, 1130944, 1885366]</td>\n",
              "      <td>[6534178, 6533889, 1029743, 6534166, 1082185]</td>\n",
              "      <td>[1082185, 981760, 1127831, 995242, 1098066]</td>\n",
              "      <td>[1082185, 981760, 1127831, 1098066, 961554]</td>\n",
              "      <td>[1082185, 981760, 1127831, 1098066, 961554]</td>\n",
              "    </tr>\n",
              "    <tr>\n",
              "      <th>1</th>\n",
              "      <td>3</td>\n",
              "      <td>[835476, 851057, 872021, 878302, 879948, 90963...</td>\n",
              "      <td>[12263501, 982982, 395388, 1101418, 15927781]</td>\n",
              "      <td>[6534178, 6533889, 1029743, 6534166, 1082185]</td>\n",
              "      <td>[1082185, 981760, 1098066, 995242, 826249]</td>\n",
              "      <td>[1082185, 1098066, 981760, 826249, 883404]</td>\n",
              "      <td>[1082185, 981760, 1098066, 826249, 883404]</td>\n",
              "    </tr>\n",
              "    <tr>\n",
              "      <th>2</th>\n",
              "      <td>6</td>\n",
              "      <td>[920308, 926804, 946489, 1006718, 1017061, 107...</td>\n",
              "      <td>[903398, 801647, 859730, 1012444, 6975728]</td>\n",
              "      <td>[6534178, 6533889, 1029743, 6534166, 1082185]</td>\n",
              "      <td>[1082185, 981760, 1127831, 995242, 1098066]</td>\n",
              "      <td>[1082185, 981760, 1127831, 1098066, 961554]</td>\n",
              "      <td>[1082185, 981760, 1127831, 878996, 961554]</td>\n",
              "    </tr>\n",
              "    <tr>\n",
              "      <th>3</th>\n",
              "      <td>7</td>\n",
              "      <td>[840386, 889774, 898068, 909714, 929067, 95347...</td>\n",
              "      <td>[931285, 12811006, 136217, 1111665, 10456979]</td>\n",
              "      <td>[6534178, 6533889, 1029743, 6534166, 1082185]</td>\n",
              "      <td>[1082185, 981760, 1127831, 995242, 1098066]</td>\n",
              "      <td>[1082185, 981760, 1127831, 961554, 1098066]</td>\n",
              "      <td>[1082185, 981760, 1127831, 961554, 826249]</td>\n",
              "    </tr>\n",
              "    <tr>\n",
              "      <th>4</th>\n",
              "      <td>8</td>\n",
              "      <td>[835098, 872137, 910439, 924610, 992977, 10412...</td>\n",
              "      <td>[13072680, 913958, 982985, 13416321, 1062425]</td>\n",
              "      <td>[6534178, 6533889, 1029743, 6534166, 1082185]</td>\n",
              "      <td>[1082185, 981760, 1127831, 1098066, 995242]</td>\n",
              "      <td>[1082185, 981760, 1098066, 826249, 1127831]</td>\n",
              "      <td>[1082185, 981760, 1098066, 826249, 1127831]</td>\n",
              "    </tr>\n",
              "  </tbody>\n",
              "</table>\n",
              "</div>"
            ],
            "text/plain": [
              "   user_id  ...                                        tfidf\n",
              "0        1  ...  [1082185, 981760, 1127831, 1098066, 961554]\n",
              "1        3  ...   [1082185, 981760, 1098066, 826249, 883404]\n",
              "2        6  ...   [1082185, 981760, 1127831, 878996, 961554]\n",
              "3        7  ...   [1082185, 981760, 1127831, 961554, 826249]\n",
              "4        8  ...  [1082185, 981760, 1098066, 826249, 1127831]\n",
              "\n",
              "[5 rows x 7 columns]"
            ]
          },
          "metadata": {
            "tags": []
          },
          "execution_count": 112
        }
      ]
    },
    {
      "cell_type": "code",
      "metadata": {
        "id": "yutc0uOG-FFR"
      },
      "source": [
        "def precision_at_k(recommended_list, bought_list, k=5):\n",
        "    \n",
        "    bought_list = np.array(bought_list)\n",
        "    recommended_list = np.array(recommended_list)\n",
        "    bought_list = bought_list\n",
        "    recommended_list = recommended_list[:k]\n",
        "    \n",
        "    flags = np.isin(bought_list, recommended_list)\n",
        "    \n",
        "    precision = flags.sum() / len(recommended_list)\n",
        "    \n",
        "    \n",
        "    return precision"
      ],
      "execution_count": null,
      "outputs": []
    },
    {
      "cell_type": "code",
      "metadata": {
        "id": "h0RDZbJFDCyW"
      },
      "source": [
        "# Метрика по семинару\r\n",
        "precision_all = []\r\n",
        "result_webinar['actual'] = result_webinar['actual'].map(lambda x: x[1:-1].split(', ')).apply(lambda x: list(map(int, x)))\r\n",
        "for column in result_webinar.columns[2:]:\r\n",
        "  result_webinar[column] = result_webinar[column].map(lambda x: x[1:-1].split(', ')).apply(lambda x: list(map(int, x)))\r\n",
        "  precision_all.append(round(result_webinar.apply(lambda x: precision_at_k(x[column], x['actual'],  5), axis=1).mean(), 4))\r\n"
      ],
      "execution_count": null,
      "outputs": []
    },
    {
      "cell_type": "code",
      "metadata": {
        "id": "YkO-3DYbTjEv"
      },
      "source": [
        "for column in result.columns[2:]:\r\n",
        "  precision_all.append(round(result.apply(lambda x: precision_at_k(x[column], x['actual'],  5), axis=1).mean(), 4))"
      ],
      "execution_count": null,
      "outputs": []
    },
    {
      "cell_type": "code",
      "metadata": {
        "colab": {
          "base_uri": "https://localhost:8080/"
        },
        "id": "Iq3HIM-wT2op",
        "outputId": "b0d279d8-0933-483d-f9ed-5ae332406df3"
      },
      "source": [
        "columns = result_webinar.columns[2:].to_list() + result.columns[2:].to_list()\r\n",
        "pd.Series(data = precision_all, index = columns)"
      ],
      "execution_count": null,
      "outputs": [
        {
          "output_type": "execute_result",
          "data": {
            "text/plain": [
              "random_recommendation                      0.0004\n",
              "popular_recommendation                     0.1552\n",
              "itemitem                                   0.1512\n",
              "cosine                                     0.1551\n",
              "tfidf                                      0.1609\n",
              "weighted_random_recommendation_quantity    0.0030\n",
              "weighted_random_recommendation_sales       0.0017\n",
              "weighted_random_recommendation_counts      0.0015\n",
              "dtype: float64"
            ]
          },
          "metadata": {
            "tags": []
          },
          "execution_count": 116
        }
      ]
    },
    {
      "cell_type": "markdown",
      "metadata": {
        "id": "3dUbsWkoV9P1"
      },
      "source": [
        "Лучший результат показывает tfidf и другие детерминированные алгоритмы, но что интересно popular_recom тоже не плохо себя показывает\r\n"
      ]
    },
    {
      "cell_type": "markdown",
      "metadata": {
        "id": "igDU0j1cC8ZH"
      },
      "source": [
        "### Задание 3. Улучшение бейзлайнов и ItemItem\n",
        "\n",
        "- Попробуйте улучшить бейзлайны, считая их на топ-5000 товаров\n",
        "- Попробуйте улучшить разные варианты ItemItemRecommender, выбирая число соседей $K$.\n",
        "- Попробуйте стратегии ансамблирования изученных алгоритмов\n"
      ]
    },
    {
      "cell_type": "markdown",
      "metadata": {
        "id": "EYYo4HiKfzQb"
      },
      "source": [
        "Random Recommendation Top-5000"
      ]
    },
    {
      "cell_type": "code",
      "metadata": {
        "id": "zYBR3cMPC8ZH"
      },
      "source": [
        "def random_recommendation(items, n=5):\r\n",
        "    \"\"\"Случайные рекоммендации\"\"\"\r\n",
        "    \r\n",
        "    \r\n",
        "    items = np.array(items)\r\n",
        "    recs = np.random.choice(items, size=n, replace=False)\r\n",
        "    \r\n",
        "    return recs.tolist()"
      ],
      "execution_count": null,
      "outputs": []
    },
    {
      "cell_type": "code",
      "metadata": {
        "colab": {
          "base_uri": "https://localhost:8080/"
        },
        "id": "rUBdROiuf3Fu",
        "outputId": "a9949b72-b819-443e-8d17-01e732b553d5"
      },
      "source": [
        "%%time\r\n",
        "top5000 = data_train.groupby('item_id')['quantity'].sum().reset_index()\r\n",
        "top5000.sort_values('quantity', ascending=False, inplace = True)\r\n",
        "items = top5000.head(5000).item_id.to_list()\r\n",
        "\r\n",
        "result['random_recommendation_5000'] = result['user_id'].apply(lambda x: random_recommendation(items, n=5))\r\n",
        "result.head(2)"
      ],
      "execution_count": null,
      "outputs": [
        {
          "output_type": "stream",
          "text": [
            "CPU times: user 1.05 s, sys: 0 ns, total: 1.05 s\n",
            "Wall time: 1.06 s\n"
          ],
          "name": "stdout"
        }
      ]
    },
    {
      "cell_type": "code",
      "metadata": {
        "id": "cYbuz9HZijmY"
      },
      "source": [
        "precision_all.append(round(result.apply(lambda x: precision_at_k(x['random_recommendation_5000'], x['actual'],  5), axis=1).mean(), 4))"
      ],
      "execution_count": null,
      "outputs": []
    },
    {
      "cell_type": "code",
      "metadata": {
        "id": "3C9wZxWEi_sZ"
      },
      "source": [
        "columns = result_webinar.columns[2:].to_list() + result.columns[2:].to_list()\r\n",
        "all_metrics = pd.Series(data = precision_all, index = columns)"
      ],
      "execution_count": null,
      "outputs": []
    },
    {
      "cell_type": "code",
      "metadata": {
        "colab": {
          "base_uri": "https://localhost:8080/"
        },
        "id": "ArtlPOm_jJJu",
        "outputId": "4715abf3-d343-408d-a684-7d9789a8b7e9"
      },
      "source": [
        "all_metrics[['random_recommendation', 'random_recommendation_5000']]"
      ],
      "execution_count": null,
      "outputs": [
        {
          "output_type": "execute_result",
          "data": {
            "text/plain": [
              "random_recommendation         0.0004\n",
              "random_recommendation_5000    0.0071\n",
              "dtype: float64"
            ]
          },
          "metadata": {
            "tags": []
          },
          "execution_count": 128
        }
      ]
    },
    {
      "cell_type": "markdown",
      "metadata": {
        "id": "sMKngyYrjx96"
      },
      "source": [
        "Baseline используя Top-5000 для рандом рекомендации улучшился"
      ]
    },
    {
      "cell_type": "markdown",
      "metadata": {
        "id": "yJhF27BZ-FFU"
      },
      "source": [
        "### Задание 4. Улучшение детерминированных алгоритмов\n",
        "На семинаре мы рассматривали \n",
        "\n"
      ]
    },
    {
      "cell_type": "markdown",
      "metadata": {
        "id": "mNK-eOY1-FFV"
      },
      "source": [
        "Далее $U \\equiv N_i(u) $\n",
        "\n",
        "$$r_{u,i} =  \\frac{1}{S}\\sum\\limits_{v \\in U}\\operatorname{sim}(u,v)r_{v, i}$$\n",
        "$$ S = \\sum\\limits_{v \\in U} \\operatorname{sim}(u,v)$$\n",
        "\n",
        "Предлагается улучшить эту формулу и учесть средние предпочтения всех пользователей\n",
        "\n",
        "$$r_{u,i} = \\mu + \\bar{r_u} + \\frac{1}{S}\\sum\\limits_{v \\in U}\\operatorname{sim}(u,v)(r_{v, i}-\\bar{r_{v}} - \\mu)$$"
      ]
    },
    {
      "cell_type": "markdown",
      "metadata": {
        "id": "1EwK2DuL-FFV"
      },
      "source": [
        "Какие смысл имееют $ \\mu $ и $ \\bar{r_u}$ ?\n",
        "\n",
        "Реализуйте алгоритм, прогнозирующий рейтинги на основе данной формулы, на numpy (векторизованно!)\n",
        "\n",
        "В качестве схожести возьмите CosineSimilarity.\n",
        "\n",
        "Примените к user_item_matrix. В качестве рейтингов возьмите количество или стоимость купленного товара. \n",
        "Данный алгоритм предсказывает рейтинги. Как на основании предсказанных рейтингов предсказать факт покупки?\n",
        "\n",
        "Предложите вариант.\n",
        "Посчитайте accuracy@5 и сравните с алгоритмами, разобранными на вебинаре."
      ]
    }
  ]
}