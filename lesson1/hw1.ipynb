{
  "nbformat": 4,
  "nbformat_minor": 0,
  "metadata": {
    "kernelspec": {
      "display_name": "Python 3",
      "language": "python",
      "name": "python3"
    },
    "language_info": {
      "codemirror_mode": {
        "name": "ipython",
        "version": 3
      },
      "file_extension": ".py",
      "mimetype": "text/x-python",
      "name": "python",
      "nbconvert_exporter": "python",
      "pygments_lexer": "ipython3",
      "version": "3.6.5"
    },
    "colab": {
      "name": "hw1.ipynb",
      "provenance": [],
      "collapsed_sections": [],
      "toc_visible": true
    }
  },
  "cells": [
    {
      "cell_type": "markdown",
      "metadata": {
        "id": "3J9_tQhHwQpK"
      },
      "source": [
        "#  1. \n",
        "**Сравните метрики hit_rate@k, precision@k.   \n",
        "Какую метрику использовать предпочтительно и почему?  \n",
        "Приведите пример 2-3 задач (опишите, что является клиентом, что товаром), в которой более уместно использовать метрику hit_rate?** \n"
      ]
    },
    {
      "cell_type": "markdown",
      "metadata": {
        "id": "Q-javZ1TwW_i"
      },
      "source": [
        "Как я для себя понял:\r\n",
        "\r\n",
        "hit_rate@k - используем, когда нам важно, что хотя бы одна наша рекомендация сработала и не важен процент попадания.\r\n",
        "\r\n",
        "precision@k - используем, чтобы было понятно сколько из наших рекомендаций оказалось релевантно\r\n",
        "\r\n",
        "Примеры для hit_rate:\r\n",
        "\r\n",
        "1. Продажа автомобиля(Товар - автомобиль, Клиент - покупатель)\r\n",
        "2. Подбор подрядчика на работы( Товар - исполнитель работ, Клиент - заказчик работ)\r\n",
        "3. Подбор доктора для заболевшего ( Товар - доктор, Клиент - заболевший)\r\n",
        "\r\n",
        "Во всех случаях, на важен именно факт попадания вообще, так как во всех случаях в основном нужен только один товар ( одна машина, один подрядчик или один доктор)"
      ]
    },
    {
      "cell_type": "markdown",
      "metadata": {
        "id": "x1odtmS7wQpX"
      },
      "source": [
        "#2.\n",
        "**В метрике NDCG@k мы используем логарифм в знаменателе. Как Вы думаете, почему именно логарифм? Какую функцию можно использовать вместо логарифма? Привидите пример метрик/подходов к предобработке данных/функций ошибок в ML, где также в  логарифм.**\n",
        "\n"
      ]
    },
    {
      "cell_type": "markdown",
      "metadata": {
        "id": "lvEt4ssqMfH2"
      },
      "source": [
        "Я думаю, что использование логарифма в знаменателе, позволяет не так сильно штрафовать рекомендацию в зависимости от позиции, так как логарифм растет плавно и не быстро.\r\n",
        "\r\n",
        "Можно использовать $y = \\sqrt{x}$, к примеру тоже растет не так быстро.\r\n",
        "\r\n",
        "Классификация, логистическая функция ошибки Log Loss, для бинарной классификации к примеру:\r\n",
        "\r\n",
        "$L = -y * log(p) - (1-y) * log(1-p)$"
      ]
    },
    {
      "cell_type": "markdown",
      "metadata": {
        "id": "kGu2gA_wwQpZ"
      },
      "source": [
        "# 3. \r\n",
        "\r\n",
        "Какие еще метрики (Вы можете вспомнить уже пройденные Вами или посмотреть в интернете) могут использоваться для рекомендательных систем (приведите примеры метрики **и чем являются интеракции**, чтобы она могла быть использована)."
      ]
    },
    {
      "cell_type": "markdown",
      "metadata": {
        "id": "QB0bbeWFSOMP"
      },
      "source": [
        "Ранговый коэффициент корреляции Спирмена.\r\n",
        "В статистике используется для оценки качества связи между двумя совокупностями, в нашем случае оценивается списки рекомендованных и купленных товаров"
      ]
    },
    {
      "cell_type": "markdown",
      "metadata": {
        "id": "grKEopSWwQpa"
      },
      "source": [
        "# 4.\n",
        "boughted = [1, 3, 5, 7, 9, 11]  \n",
        "recommended = [2, 5, 7, 4, 11, 9, 8, 10, 12, 3]  \n",
        "Посчитайте на этих данных pr@8, rec@8, AP@8, NDCG@8, RR@8, ERR@8 (expected reciprocal rank)  \n",
        "Сначала поссчитайет \"руками\", а затем подтвердите рассчеты с помощью функций (некоторые были на семинаре, некоторые нужно будут написать самостоятельно)"
      ]
    },
    {
      "cell_type": "markdown",
      "metadata": {
        "id": "ObAEIKfNYznU"
      },
      "source": [
        "$pr@8 = \\frac{0 + 0 + 1 + 1 + 1 + 1}{8} = \\frac{4}{8} = 0.5$\r\n",
        "\r\n",
        "\r\n",
        "---\r\n",
        "\r\n",
        "\r\n",
        "$rec@8 = \\frac{0 + 0 + 1 + 1 + 1 + 1}{6} = \\frac{4}{6} = \\frac{2}{3} \\approx 0.67$\r\n",
        "\r\n",
        "\r\n",
        "---\r\n",
        "Брал в расчет, что все таки мы делим на кол-во релевантных элементов, а не на k элементов\r\n",
        "\r\n",
        "$AP@8 = \\frac{1}{4} * (0 + \\frac{1}{2} + \\frac{2}{3} + 0 + \\frac{3}{5} + \\frac{4}{6} + 0 + 0) = \\frac{1}{4} * (\\frac{1}{2} + \\frac{2}{3} + \\frac{3}{5} + \\frac{4}{6} ) = \\frac{1}{4} * (\\frac{15}{30} + \\frac{20}{30} + \\frac{18}{30} + \\frac{20}{30})= \\frac{1}{4} * \\frac{73}{30} \\approx 0,608$\r\n",
        "\r\n",
        "\r\n",
        "---\r\n",
        "\r\n",
        "\r\n",
        "$NDCG@8 = \\frac{DCG}{ideal DCG} = \\frac{0.31}{0.58} = 0.53$\r\n",
        "\r\n",
        "$DCG@8 = \\frac{1}{8} * (0 + \\frac{1}{log{_2}{2}} + \\frac{1}{log{_2}{3}} + 0 + \\frac{1}{log{_2}{5}} + \\frac{1}{log{_2}{6}} + 0 + 0 \\approx 0.31$\r\n",
        "\r\n",
        "$idealDCG@8 = \\frac{1}{8} * (1+1+\\frac{1}{log{_2}{3}} + \\frac{1}{log{_2}{4}} + \\frac{1}{log{_2}{5}} + \\frac{1}{log{_2}{6}} + \\frac{1}{log{_2}{7}} + \\frac{1}{log{_2}{8}}) \\approx 0.58$\r\n",
        "\r\n",
        "\r\n",
        "---\r\n",
        "\r\n",
        "$RR@8 = 1/2 = 0.5$\r\n",
        "\r\n",
        "\r\n",
        "---\r\n",
        "\r\n",
        "$ERR@8 = $"
      ]
    },
    {
      "cell_type": "code",
      "metadata": {
        "id": "t1K-UqAjeDqD"
      },
      "source": [
        "import numpy as np\r\n",
        "import math \r\n",
        "boughted = [1, 3, 5, 7, 9, 11]  \r\n",
        "recommended = [2, 5, 7, 4, 11, 9, 8, 10, 12, 3]  "
      ],
      "execution_count": 7,
      "outputs": []
    },
    {
      "cell_type": "code",
      "metadata": {
        "colab": {
          "base_uri": "https://localhost:8080/"
        },
        "id": "dvrZOqJHd3VR",
        "outputId": "fb349d43-9fd9-45a8-bfa1-5c4a18d64735"
      },
      "source": [
        "def precision_at_k(recommended_list, bought_list, k=5):\r\n",
        "    \r\n",
        "    bought_list = np.array(bought_list)\r\n",
        "    recommended_list = np.array(recommended_list)\r\n",
        "    \r\n",
        "    bought_list = bought_list\r\n",
        "    recommended_list = recommended_list[:k]\r\n",
        "    \r\n",
        "    flags = np.isin(bought_list, recommended_list)\r\n",
        "    precision = flags.sum() / len(recommended_list)\r\n",
        "    \r\n",
        "    \r\n",
        "    return precision\r\n",
        "\r\n",
        "pr_8 = precision_at_k(recommended, boughted, k=8)\r\n",
        "print(f'Precision@8 : {pr_8:.2f}')"
      ],
      "execution_count": 4,
      "outputs": [
        {
          "output_type": "stream",
          "text": [
            "Precision@8 : 0.50\n"
          ],
          "name": "stdout"
        }
      ]
    },
    {
      "cell_type": "code",
      "metadata": {
        "colab": {
          "base_uri": "https://localhost:8080/"
        },
        "id": "mhay7taxejSF",
        "outputId": "5ca31256-555f-496a-de81-1cf8b1fcd8bf"
      },
      "source": [
        "def recall_at_k(recommended_list, bought_list, k=5):\r\n",
        "    bought_list = np.array(bought_list)\r\n",
        "    recommended_list = np.array(recommended_list)[:k]\r\n",
        "    \r\n",
        "    flags = np.isin(bought_list, recommended_list)\r\n",
        "    \r\n",
        "    recall = flags.sum() / len(bought_list)\r\n",
        "    \r\n",
        "    return recall\r\n",
        "\r\n",
        "rec_8 = recall_at_k(recommended, boughted, k=8)\r\n",
        "print(f'Recall@8 : {rec_8:.2f}')"
      ],
      "execution_count": 5,
      "outputs": [
        {
          "output_type": "stream",
          "text": [
            "Recall@8 : 0.67\n"
          ],
          "name": "stdout"
        }
      ]
    },
    {
      "cell_type": "code",
      "metadata": {
        "colab": {
          "base_uri": "https://localhost:8080/"
        },
        "id": "zFph4cW_e5m6",
        "outputId": "75be073e-80d2-4bc0-edff-9f5cd1166371"
      },
      "source": [
        "def ap_k(recommended_list, bought_list, k=5):\r\n",
        "    \r\n",
        "    bought_list = np.array(bought_list)\r\n",
        "    recommended_list = np.array(recommended_list)\r\n",
        "    \r\n",
        "    flags = np.isin(recommended_list, bought_list)[:k]\r\n",
        "    if sum(flags) == 0:\r\n",
        "        return 0\r\n",
        "    \r\n",
        "    sum_ = 0\r\n",
        "    for i in range(1, k+1): \r\n",
        "        if flags[i-1] == True:\r\n",
        "            p_k = precision_at_k(recommended_list, bought_list, k=i)\r\n",
        "            sum_ += p_k\r\n",
        "            \r\n",
        "    result = sum_ / sum(flags)\r\n",
        "    \r\n",
        "    return result\r\n",
        "\r\n",
        "ap_8 = ap_k(recommended, boughted, k=8)\r\n",
        "print(f'AP@8 : {ap_8:.3f}')"
      ],
      "execution_count": 12,
      "outputs": [
        {
          "output_type": "stream",
          "text": [
            "AP@8 : 0.608\n"
          ],
          "name": "stdout"
        }
      ]
    },
    {
      "cell_type": "code",
      "metadata": {
        "id": "bYa-ACbDsb_r",
        "colab": {
          "base_uri": "https://localhost:8080/"
        },
        "outputId": "3218231f-53c5-48c3-fb50-c9b078b3f3fb"
      },
      "source": [
        "def ndcg_k(recommended_list, bought_list, k=5):\r\n",
        "    bought_list = np.array(bought_list)\r\n",
        "    recommended_list = np.array(recommended_list)\r\n",
        "    \r\n",
        "    flags = np.isin(recommended_list, bought_list)[:k]\r\n",
        "    if sum(flags) == 0:\r\n",
        "        return 0\r\n",
        "    dcg = 0\r\n",
        "    for i in range(1, k+1):\r\n",
        "      if flags[i-1] == True:\r\n",
        "        dcg += 1/math.log(i,2)\r\n",
        "    dcg *= 1/k\r\n",
        "    ideal = 1/k * (sum([1/math.log(i,2) for i in range(2, k+1)]) + 1)\r\n",
        "    \r\n",
        "    return dcg / ideal\r\n",
        "\r\n",
        "ndcg_8 = ndcg_k(recommended, boughted, k=8)   \r\n",
        "print(f'NDCG@8 : {ndcg_8:.3f}')"
      ],
      "execution_count": 13,
      "outputs": [
        {
          "output_type": "stream",
          "text": [
            "NDCG@8 : 0.528\n"
          ],
          "name": "stdout"
        }
      ]
    },
    {
      "cell_type": "code",
      "metadata": {
        "colab": {
          "base_uri": "https://localhost:8080/"
        },
        "id": "e0yNC0LwEovk",
        "outputId": "795d2cae-a432-4fd4-df20-73cbf1237cc4"
      },
      "source": [
        "def reciprocal_rank_at_k(recommended_list, bought_list, k=5):\r\n",
        "    \r\n",
        "    recommended_list = np.array(recommended_list)[:k]\r\n",
        "    bought_list = np.array(bought_list)\r\n",
        "    \r\n",
        "    flags = np.isin(recommended_list, bought_list)\r\n",
        "    ranks = 0\r\n",
        "    for i in range(0, k):\r\n",
        "        if flags[i]:\r\n",
        "            ranks = 1 / (i+1)\r\n",
        "            break\r\n",
        "                \r\n",
        "    return ranks\r\n",
        "\r\n",
        "rr_8 = reciprocal_rank_at_k(recommended, boughted, k=8)\r\n",
        "print(rr_8)"
      ],
      "execution_count": 14,
      "outputs": [
        {
          "output_type": "stream",
          "text": [
            "0.5\n"
          ],
          "name": "stdout"
        }
      ]
    },
    {
      "cell_type": "code",
      "metadata": {
        "id": "YRHCqOjsFEb6"
      },
      "source": [
        ""
      ],
      "execution_count": null,
      "outputs": []
    }
  ]
}